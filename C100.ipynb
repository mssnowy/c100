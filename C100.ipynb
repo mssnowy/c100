{
  "nbformat": 4,
  "nbformat_minor": 0,
  "metadata": {
    "colab": {
      "provenance": [],
      "authorship_tag": "ABX9TyOmhsYA5LIw/hvBXA+frSr4",
      "include_colab_link": true
    },
    "kernelspec": {
      "name": "python3",
      "display_name": "Python 3"
    },
    "language_info": {
      "name": "python"
    }
  },
  "cells": [
    {
      "cell_type": "markdown",
      "metadata": {
        "id": "view-in-github",
        "colab_type": "text"
      },
      "source": [
        "<a href=\"https://colab.research.google.com/github/mssnowy/c100/blob/main/C100.ipynb\" target=\"_parent\"><img src=\"https://colab.research.google.com/assets/colab-badge.svg\" alt=\"Open In Colab\"/></a>"
      ]
    },
    {
      "cell_type": "code",
      "execution_count": 1,
      "metadata": {
        "colab": {
          "base_uri": "https://localhost:8080/"
        },
        "id": "M4E6eosEy7dj",
        "outputId": "4afd0fde-5863-4c8a-f188-49c8f8a77825"
      },
      "outputs": [
        {
          "output_type": "execute_result",
          "data": {
            "text/plain": [
              "str"
            ]
          },
          "metadata": {},
          "execution_count": 1
        }
      ],
      "source": [
        "name = 'Sisira'\n",
        "type(name)"
      ]
    },
    {
      "cell_type": "code",
      "source": [
        "info = []\n",
        "type(info)"
      ],
      "metadata": {
        "colab": {
          "base_uri": "https://localhost:8080/"
        },
        "id": "wAcg2D4Sz1hM",
        "outputId": "b16cbcb3-a34f-4ed8-eaeb-1937dd09f6c9"
      },
      "execution_count": 2,
      "outputs": [
        {
          "output_type": "execute_result",
          "data": {
            "text/plain": [
              "list"
            ]
          },
          "metadata": {},
          "execution_count": 2
        }
      ]
    },
    {
      "cell_type": "code",
      "source": [
        "person = {\n",
        "    \n",
        "}\n",
        "type(person)"
      ],
      "metadata": {
        "colab": {
          "base_uri": "https://localhost:8080/"
        },
        "id": "p9pY8KxS0J9a",
        "outputId": "c41c2864-7f6a-4aa6-9334-e9ef5fa4f22c"
      },
      "execution_count": 3,
      "outputs": [
        {
          "output_type": "execute_result",
          "data": {
            "text/plain": [
              "dict"
            ]
          },
          "metadata": {},
          "execution_count": 3
        }
      ]
    },
    {
      "cell_type": "code",
      "source": [
        "person = {\n",
        "    'name': 'sisira',\n",
        "    'email': 'sisira@gmail.com',\n",
        "    'phone #': 123456789,\n",
        "    'address': 'USA'\n",
        "}\n",
        "print(person)\n",
        "print(person['address'])\n",
        "print(person['email'])"
      ],
      "metadata": {
        "colab": {
          "base_uri": "https://localhost:8080/"
        },
        "id": "I22HhIkI0Y5m",
        "outputId": "73f105ae-2e51-4a62-b5f9-d0bcbc2dd915"
      },
      "execution_count": 11,
      "outputs": [
        {
          "output_type": "stream",
          "name": "stdout",
          "text": [
            "{'name': 'sisira', 'email': 'sisira@gmail.com', 'phone #': 123456789, 'address': 'USA'}\n",
            "USA\n",
            "sisira@gmail.com\n"
          ]
        }
      ]
    },
    {
      "cell_type": "code",
      "source": [
        "class Contact_details:\n",
        "  def __init__(self,name,phone,email,address):\n",
        "    self.contact_name = name\n",
        "    self.contact_number = phone\n",
        "    self.email = email\n",
        "    self.address = address\n",
        "\n",
        "    self.person = {\n",
        "        'name': self.contact_name,\n",
        "        'phone': self.contact_number,\n",
        "        'email': self.email,\n",
        "        'address': self.address\n",
        "    }\n",
        "\n",
        "  def view_contact_details(self):\n",
        "    print(self.person)\n",
        "\n",
        "  def add_contact_details(self,contact_list):\n",
        "    contact_list.append(self.person)\n",
        "\n",
        "new_contact = Contact_details('Sisira',123456789,'sisira@gmail.com','USA')\n",
        "new_contact.view_contact_details()\n",
        "\n",
        "new_contact = Contact_details('John',123456789,'john@gmail.com','USA')\n",
        "new_contact.view_contact_details()\n",
        "\n",
        "new_contact = Contact_details('Emily',123456789,'emily@gmail.com','USA')\n",
        "new_contact.view_contact_details()\n",
        "\n",
        "new_contact = Contact_details('Sara',123456789,'sara@gmail.com','USA')\n",
        "new_contact.view_contact_details()"
      ],
      "metadata": {
        "colab": {
          "base_uri": "https://localhost:8080/"
        },
        "id": "enTA9XXj2Oje",
        "outputId": "922b7eea-7426-4226-b11f-b14d9d7221f6"
      },
      "execution_count": 22,
      "outputs": [
        {
          "output_type": "stream",
          "name": "stdout",
          "text": [
            "{'name': 'Sisira', 'phone': 123456789, 'email': 'sisira@gmail.com', 'address': 'USA'}\n",
            "{'name': 'John', 'phone': 123456789, 'email': 'john@gmail.com', 'address': 'USA'}\n",
            "{'name': 'Emily', 'phone': 123456789, 'email': 'emily@gmail.com', 'address': 'USA'}\n",
            "{'name': 'Sara', 'phone': 123456789, 'email': 'sara@gmail.com', 'address': 'USA'}\n"
          ]
        }
      ]
    }
  ]
}